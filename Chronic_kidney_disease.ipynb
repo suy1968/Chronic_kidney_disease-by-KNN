{
  "nbformat": 4,
  "nbformat_minor": 0,
  "metadata": {
    "colab": {
      "name": "Chronic_kidney_disease.ipynb",
      "provenance": []
    },
    "kernelspec": {
      "name": "python3",
      "display_name": "Python 3"
    }
  },
  "cells": [
    {
      "cell_type": "code",
      "metadata": {
        "id": "AoEY66ss8Isa",
        "colab_type": "code",
        "colab": {}
      },
      "source": [
        "import math\n",
        "import numpy as np\n",
        "import matplotlib.pyplot as plt\n",
        "from matplotlib import style\n",
        "import pandas as pd\n",
        "import random\n",
        "from collections import Counter\n",
        "from sklearn import preprocessing\n",
        "import time"
      ],
      "execution_count": 1,
      "outputs": []
    },
    {
      "cell_type": "code",
      "metadata": {
        "id": "aSTU9ruch2QT",
        "colab_type": "code",
        "colab": {}
      },
      "source": [
        "dataset=pd.read_csv('chronic_kidney_disease.csv')"
      ],
      "execution_count": 2,
      "outputs": []
    },
    {
      "cell_type": "code",
      "metadata": {
        "id": "WI_qbwCOitAa",
        "colab_type": "code",
        "colab": {}
      },
      "source": [
        "plt.style.use('ggplot')\n",
        "#for plotting"
      ],
      "execution_count": 3,
      "outputs": []
    },
    {
      "cell_type": "code",
      "metadata": {
        "id": "BngMASHOi1vc",
        "colab_type": "code",
        "colab": {
          "base_uri": "https://localhost:8080/",
          "height": 252
        },
        "outputId": "115baf53-d25b-4f73-90ab-030b60ac4223"
      },
      "source": [
        "class CustomKNN:\n",
        "\t\n",
        "\tdef __init__(self):\n",
        "\t\tself.accurate_predictions = 0\n",
        "\t\tself.total_predictions = 0\n",
        "\t\tself.accuracy = 0.0\n",
        "\n",
        "\tdef predict(self, training_data, to_predict, k = 3):\n",
        "\t\tif len(training_data) >= k:\n",
        "\t\t\tprint(\"K cannot be smaller than the total voting groups(ie. number of training data points)\")\n",
        "\t\t\treturn\n",
        "\t\t\n",
        "\t\tdistributions = []\n",
        "\t\tfor group in training_data:\n",
        "\t\t\tfor features in training_data[group]:\n",
        "\t\t\t\teuclidean_distance = np.linalg.norm(np.array(features)- np.array(to_predict))\n",
        "\t\t\t\tdistributions.append([euclidean_distance, group])\n",
        "\t\t\n",
        "\t\tresults = [i[1] for i in sorted(distributions)[:k]]\n",
        "\t\tresult = Counter(results).most_common(1)[0][0]\n",
        "\t\tconfidence = Counter(results).most_common(1)[0][1]/k\n",
        "\t\t\n",
        "\t\treturn result, confidence\n",
        "\t\n",
        "\tdef test(self, test_set, training_set):\n",
        "\t\tfor group in test_set:\n",
        "\t\t\tfor data in test_set[group]:\n",
        "\t\t\t\tpredicted_class,confidence = self.predict(training_set, data, k =3)\n",
        "\t\t\t\tif predicted_class == group:\n",
        "\t\t\t\t\tself.accurate_predictions += 1\n",
        "\t\t\t\telse:\n",
        "\t\t\t\t\tprint(\"Wrong classification with confidence \" + str(confidence * 100) + \" and class \" + str(predicted_class))\n",
        "\t\t\t\tself.total_predictions += 1\n",
        "\t\tself.accuracy = 100*(self.accurate_predictions/self.total_predictions)\n",
        "\t\tprint(\"\\nAcurracy :\", str(self.accuracy) + \"%\")\n",
        "\n",
        "def mod_data(df):\n",
        "\tdf.replace('?', -999999, inplace = True)\n",
        "\t\n",
        "\tdf.replace('yes', 4, inplace = True)\n",
        "\tdf.replace('no', 2, inplace = True)\n",
        "\n",
        "\tdf.replace('notpresent', 4, inplace = True)\n",
        "\tdf.replace('present', 2, inplace = True)\n",
        "\t\n",
        "\tdf.replace('abnormal', 4, inplace = True)\n",
        "\tdf.replace('normal', 2, inplace = True)\n",
        "\t\n",
        "\tdf.replace('poor', 4, inplace = True)\n",
        "\tdf.replace('good', 2, inplace = True)\n",
        "\t\n",
        "\tdf.replace('ckd', 4, inplace = True)\n",
        "\tdf.replace('notckd', 2, inplace = True)\n",
        "\n",
        "def main():\n",
        "\tdf = pd.read_csv(\"chronic_kidney_disease.csv\")\n",
        "\tmod_data(df)\n",
        "\tdataset = df.astype(float).values.tolist()\n",
        "\t\n",
        "\t#Normalize the data\n",
        "\tx = df.values #returns a numpy array\n",
        "\tmin_max_scaler = preprocessing.MinMaxScaler()\n",
        "\tx_scaled = min_max_scaler.fit_transform(x)\n",
        "\tdf = pd.DataFrame(x_scaled) #Replace df with normalized values\n",
        "\t\n",
        "\t#Shuffle the dataset\n",
        "\trandom.shuffle(dataset)\n",
        "\n",
        "\t#20% of the available data will be used for testing\n",
        "\ttest_size = 0.2\n",
        "\n",
        "\t#The keys of the dict are the classes that the data is classfied into\n",
        "\ttraining_set = {2: [], 4:[]}\n",
        "\ttest_set = {2: [], 4:[]}\n",
        "\t\n",
        "\t#Split data into training and test for cross validation\n",
        "\ttraining_data = dataset[:-int(test_size * len(dataset))]\n",
        "\ttest_data = dataset[-int(test_size * len(dataset)):]\n",
        "\t\n",
        "\t#Insert data into the training set\n",
        "\tfor record in training_data:\n",
        "\t\ttraining_set[record[-1]].append(record[:-1]) # Append the list in the dict will all the elements of the record except the class\n",
        "\n",
        "\t#Insert data into the test set\n",
        "\tfor record in test_data:\n",
        "\t\ttest_set[record[-1]].append(record[:-1]) # Append the list in the dict will all the elements of the record except the class\n",
        "\n",
        "\ts = time.clock()\n",
        "\tknn = CustomKNN()\n",
        "\tknn.test(test_set, training_set)\n",
        "\te = time.clock()\n",
        "\tprint(\"Exec Time:\" ,e-s)\n",
        "\n",
        "if __name__ == \"__main__\":\n",
        "\tmain()"
      ],
      "execution_count": 8,
      "outputs": [
        {
          "output_type": "stream",
          "text": [
            "Wrong classification with confidence 66.66666666666666 and class 4\n",
            "Wrong classification with confidence 66.66666666666666 and class 4\n",
            "Wrong classification with confidence 66.66666666666666 and class 4\n",
            "Wrong classification with confidence 100.0 and class 4\n",
            "Wrong classification with confidence 66.66666666666666 and class 4\n",
            "Wrong classification with confidence 100.0 and class 2\n",
            "Wrong classification with confidence 100.0 and class 2\n",
            "Wrong classification with confidence 100.0 and class 2\n",
            "Wrong classification with confidence 100.0 and class 2\n",
            "Wrong classification with confidence 100.0 and class 2\n",
            "Wrong classification with confidence 66.66666666666666 and class 2\n",
            "\n",
            "Acurracy : 86.25%\n",
            "Exec Time: 0.4980389999999999\n"
          ],
          "name": "stdout"
        }
      ]
    },
    {
      "cell_type": "code",
      "metadata": {
        "id": "1d64kRuJi-IP",
        "colab_type": "code",
        "colab": {}
      },
      "source": [
        ""
      ],
      "execution_count": 9,
      "outputs": []
    },
    {
      "cell_type": "code",
      "metadata": {
        "id": "wG0EiDTQjEd_",
        "colab_type": "code",
        "colab": {}
      },
      "source": [
        ""
      ],
      "execution_count": 12,
      "outputs": []
    },
    {
      "cell_type": "code",
      "metadata": {
        "id": "vDNqA8kmkhLl",
        "colab_type": "code",
        "colab": {}
      },
      "source": [
        ""
      ],
      "execution_count": 13,
      "outputs": []
    },
    {
      "cell_type": "code",
      "metadata": {
        "id": "FBgXXod0lC34",
        "colab_type": "code",
        "colab": {}
      },
      "source": [
        ""
      ],
      "execution_count": 14,
      "outputs": []
    },
    {
      "cell_type": "code",
      "metadata": {
        "id": "PqPLP1aelGUy",
        "colab_type": "code",
        "colab": {}
      },
      "source": [
        ""
      ],
      "execution_count": 15,
      "outputs": []
    },
    {
      "cell_type": "code",
      "metadata": {
        "id": "IhMVpLmFlNlM",
        "colab_type": "code",
        "colab": {}
      },
      "source": [
        ""
      ],
      "execution_count": null,
      "outputs": []
    }
  ]
}